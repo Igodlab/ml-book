{
 "cells": [
  {
   "cell_type": "markdown",
   "id": "90e1af5a-9c58-499d-8ab3-3bf81284d34b",
   "metadata": {},
   "source": [
    "$\\newcommand{\\bs}[1]{\\boldsymbol{#1}}$\n",
    "$\\renewcommand{\\vec}[1]{\\bs{#1}}$\n",
    "\n",
    "# 1 Introduction"
   ]
  },
  {
   "cell_type": "markdown",
   "id": "669e1100-1a5b-44bd-aee9-9bec527e8663",
   "metadata": {},
   "source": [
    "### What's ML about?\n",
    "\n",
    "- Most 2010s ML focuses on the task of mapping inputs to outputs $f:\\mathcal{X}\\rightarrow\\mathcal{Y}$ using **Deep Learning**\n",
    "  - A missleading though not completely inaccurate claim is basically calling ML *\"glorified curve fitting\"*\n",
    "  - Despite it portraying the lack of general AI in our models and lack of holistic understaing of the field as it is now, it is inaccurate to use a one-dimensional intuition like curve fitting to many dimensions\n"
   ]
  }
 ],
 "metadata": {
  "kernelspec": {
   "display_name": "Python 3 (ipykernel)",
   "language": "python",
   "name": "python3"
  },
  "language_info": {
   "codemirror_mode": {
    "name": "ipython",
    "version": 3
   },
   "file_extension": ".py",
   "mimetype": "text/x-python",
   "name": "python",
   "nbconvert_exporter": "python",
   "pygments_lexer": "ipython3",
   "version": "3.12.9"
  }
 },
 "nbformat": 4,
 "nbformat_minor": 5
}
